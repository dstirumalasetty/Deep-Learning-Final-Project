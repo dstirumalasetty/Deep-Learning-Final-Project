{
  "nbformat": 4,
  "nbformat_minor": 0,
  "metadata": {
    "colab": {
      "provenance": []
    },
    "kernelspec": {
      "name": "python3",
      "display_name": "Python 3"
    },
    "language_info": {
      "name": "python"
    }
  },
  "cells": [
    {
      "cell_type": "code",
      "source": [
        "import json\n",
        "import time\n",
        "import math\n",
        "import matplotlib.pyplot as plt\n",
        "import numpy as np\n",
        "import pandas as pd\n",
        "import datetime as dt\n",
        "from numpy import newaxis\n",
        "import numpy as np\n",
        "import pandas as pd\n",
        "import torch\n",
        "import torch.nn as nn\n",
        "from torch.utils.data import Dataset, DataLoader\n",
        "from tqdm import tqdm\n",
        "import matplotlib.pyplot as plt\n",
        "from collections import defaultdict\n",
        "import torch.optim as optim\n",
        "import torch.nn.functional as F\n",
        "from collections import Counter\n",
        "import random\n",
        "import torch.optim as optim\n",
        "from torch.utils.data import DataLoader, TensorDataset\n",
        "from torchsummary import summary\n",
        "from sklearn.linear_model import LinearRegression\n",
        "from sklearn.ensemble import RandomForestRegressor\n",
        "from sklearn.linear_model import Ridge\n",
        "\n",
        "from math import pi,sqrt,exp,pow,log\n",
        "from numpy.linalg import det, inv\n",
        "from abc import ABCMeta, abstractmethod\n",
        "from sklearn import cluster\n",
        "\n",
        "import statsmodels.api as sm \n",
        "import scipy.stats as scs\n",
        "import scipy.optimize as sco\n",
        "import scipy.interpolate as sci\n",
        "from scipy import stats\n",
        "import torch\n",
        "import torch.nn as nn\n",
        "import torch.optim as optim\n",
        "import numpy as np\n",
        "import sklearn\n"
      ],
      "metadata": {
        "id": "OA3ZnBpTfCfn"
      },
      "execution_count": 41,
      "outputs": []
    },
    {
      "cell_type": "code",
      "source": [
        "df = pd.read_csv(\"model_data.csv\")\n",
        "# Drop the \"tema\" column\n",
        "df = df.drop(\"Unnamed: 0.1\", axis=1)\n",
        "df = df.drop(\"Unnamed: 0\", axis=1)\n",
        "df.set_index('Date', inplace=True)"
      ],
      "metadata": {
        "id": "juD7X8afe5O3"
      },
      "execution_count": 42,
      "outputs": []
    },
    {
      "cell_type": "code",
      "execution_count": 43,
      "metadata": {
        "id": "o55XSN6eeyNF"
      },
      "outputs": [],
      "source": [
        "def sliding_windows(data, seq_length):\n",
        "    #data_array = data.values  # Convert DataFrame to numpy array\n",
        "    x = []\n",
        "    y = []\n",
        "\n",
        "    for i in range(len(data)-seq_length+1):\n",
        "        _x = data[i:(i+seq_length), :-1]  # Exclude the last column (label) from _x\n",
        "        _y = data[i+seq_length-1, -1]  # Label is taken from the last column of the next row\n",
        "        _x[-1, -1] = _y  # Replace the last element of the sequence with the label\n",
        "        x.append(_x)\n",
        "        y.append(_y)\n",
        "\n",
        "    return np.array(x), np.array(y)\n"
      ]
    },
    {
      "cell_type": "code",
      "source": [
        "inv_data =pd.read_csv(\"model_data.csv\")\n",
        "# Drop the \"tema\" column\n",
        "inv_data = inv_data.drop(\"Unnamed: 0.1\", axis=1)\n",
        "inv_data = inv_data.drop(\"Unnamed: 0\", axis=1)\n",
        "inv_data.set_index('Date', inplace=True)\n",
        "inv_data_y = inv_data['target']\n",
        "inv_data_y = inv_data_y.values\n",
        "\n",
        "# Manually rescale the predictions and targets based on the original data range\n",
        "data_min = np.min(inv_data_y)  # Minimum value of the original data\n",
        "data_max = np.max(inv_data_y)  # Maximum value of the original data\n",
        "\n",
        "\n"
      ],
      "metadata": {
        "id": "m4r4OkOJnh3n"
      },
      "execution_count": 59,
      "outputs": []
    },
    {
      "cell_type": "code",
      "source": [
        "#sc = MinMaxScaler()\n",
        "#training_data = sc.fit_transform(train)\n",
        "from torch.autograd import Variable\n",
        "from sklearn.preprocessing import MinMaxScaler\n",
        "sc = MinMaxScaler()\n",
        "data = sc.fit_transform(df)\n",
        "\n",
        "seq_length = 10\n",
        "x, y = sliding_windows(data, seq_length)\n",
        "\n",
        "train_size = int(len(y) * 0.80)\n",
        "test_size = len(y) - train_size\n",
        "\n",
        "dataX = Variable(torch.Tensor(np.array(x)))\n",
        "dataY = Variable(torch.Tensor(np.array(y)))\n",
        "\n",
        "X_train = Variable(torch.Tensor(np.array(x[0:train_size])))\n",
        "y_train = Variable(torch.Tensor(np.array(y[0:train_size])))\n",
        "\n",
        "X_test = Variable(torch.Tensor(np.array(x[train_size:len(x)])))\n",
        "y_test = Variable(torch.Tensor(np.array(y[train_size:len(y)])))"
      ],
      "metadata": {
        "id": "bLf0sJP3fOlN"
      },
      "execution_count": 44,
      "outputs": []
    },
    {
      "cell_type": "code",
      "source": [
        "# Create training and testing datasets\n",
        "train_dataset = TensorDataset(X_train, y_train)\n",
        "test_dataset = TensorDataset(X_test, y_test)\n",
        "batch_size= 32\n",
        "# Create data loaders for batching the datasets\n",
        "train_loader = DataLoader(train_dataset, batch_size=batch_size, shuffle=True)\n",
        "test_loader = DataLoader(test_dataset, batch_size=batch_size, shuffle=False)"
      ],
      "metadata": {
        "id": "T9cEf4XFjfqO"
      },
      "execution_count": 45,
      "outputs": []
    },
    {
      "cell_type": "code",
      "source": [
        "# Define the LSTM model\n",
        "class LSTMModel(nn.Module):\n",
        "    def __init__(self, input_dim, hidden_dim, output_dim,drop_out):\n",
        "        super(LSTMModel, self).__init__()\n",
        "        self.hidden_dim = hidden_dim\n",
        "        self.lstm1 = nn.LSTM(input_dim, hidden_dim, batch_first=True)\n",
        "        self.dropout = nn.Dropout(drop_out)\n",
        "        self.lstm2 = nn.LSTM(hidden_dim, hidden_dim, batch_first=True)\n",
        "        self.lstm3 = nn.LSTM(hidden_dim, hidden_dim, batch_first=True)\n",
        "        self.linear = nn.Linear(hidden_dim, output_dim)\n",
        "\n",
        "    def forward(self, x):\n",
        "        out, _ = self.lstm1(x)\n",
        "        out = self.dropout(out)\n",
        "        out, _ = self.lstm2(out)\n",
        "        out, _ = self.lstm3(out)\n",
        "        out = self.dropout(out[:, -1, :])  # Take the last time step output\n",
        "        out = self.linear(out)\n",
        "        return out"
      ],
      "metadata": {
        "id": "AKKU_wt9j8tP"
      },
      "execution_count": 46,
      "outputs": []
    },
    {
      "cell_type": "code",
      "source": [
        "from torch.types import Device\n",
        "device = torch.device('cuda' if torch.cuda.is_available() else 'cpu')\n",
        "\n",
        "\n",
        "input_dim = 18  # Example input dimension\n",
        "hidden_dim = 50  # Example hidden dimension\n",
        "output_dim = 1  # Example output dimension\n",
        "drop_out = 0.2  # Example dropout rate\n",
        "\n",
        "model = LSTMModel(input_dim, hidden_dim, output_dim,drop_out).to(device)"
      ],
      "metadata": {
        "id": "PNdi9JtRkANY"
      },
      "execution_count": 48,
      "outputs": []
    },
    {
      "cell_type": "code",
      "source": [
        "# setting up hyperparameters\n",
        "learning_rate = 0.001\n",
        "\n",
        "\n",
        "# Initialize the model and the optimizer\n",
        "#model = StockSelectionModel().to(device)\n",
        "optimizer = torch.optim.Adam(model.parameters(), lr=learning_rate, betas=(0.9, 0.999))\n",
        "\n",
        "# Define the loss function\n",
        "criterion = nn.MSELoss()"
      ],
      "metadata": {
        "id": "wPe1tvj2kD8t"
      },
      "execution_count": 49,
      "outputs": []
    },
    {
      "cell_type": "code",
      "source": [
        "num_epochs=500\n",
        "# Train the LSTM model\n",
        "for epoch in range(num_epochs):\n",
        "    for i, (sequences, labels) in enumerate(train_loader):\n",
        "        optimizer.zero_grad()\n",
        "        outputs = model(sequences.float()) # cast input tensor to Float\n",
        "        loss = criterion(outputs, labels.float().unsqueeze(1)) # cast label tensor to Float\n",
        "        loss.backward()\n",
        "        nn.utils.clip_grad_norm_(model.parameters(), max_norm=1.0)\n",
        "        optimizer.step()\n",
        "\n",
        "    # Print the loss every 10 epochs\n",
        "    if (epoch + 1) % 10 == 0:\n",
        "        print(f\"Epoch [{epoch+1}/{num_epochs}], Loss: {loss.item():.4f}\")"
      ],
      "metadata": {
        "colab": {
          "base_uri": "https://localhost:8080/"
        },
        "id": "kQ2ne7ojkTL2",
        "outputId": "1d90902d-888e-4835-a058-8c44e8d43f1c"
      },
      "execution_count": 50,
      "outputs": [
        {
          "output_type": "stream",
          "name": "stdout",
          "text": [
            "Epoch [10/500], Loss: 0.0233\n",
            "Epoch [20/500], Loss: 0.0113\n",
            "Epoch [30/500], Loss: 0.0065\n",
            "Epoch [40/500], Loss: 0.0060\n",
            "Epoch [50/500], Loss: 0.0012\n",
            "Epoch [60/500], Loss: 0.0035\n",
            "Epoch [70/500], Loss: 0.0048\n",
            "Epoch [80/500], Loss: 0.0036\n",
            "Epoch [90/500], Loss: 0.0054\n",
            "Epoch [100/500], Loss: 0.0034\n",
            "Epoch [110/500], Loss: 0.0026\n",
            "Epoch [120/500], Loss: 0.0008\n",
            "Epoch [130/500], Loss: 0.0027\n",
            "Epoch [140/500], Loss: 0.0009\n",
            "Epoch [150/500], Loss: 0.0011\n",
            "Epoch [160/500], Loss: 0.0033\n",
            "Epoch [170/500], Loss: 0.0012\n",
            "Epoch [180/500], Loss: 0.0020\n",
            "Epoch [190/500], Loss: 0.0015\n",
            "Epoch [200/500], Loss: 0.0013\n",
            "Epoch [210/500], Loss: 0.0052\n",
            "Epoch [220/500], Loss: 0.0022\n",
            "Epoch [230/500], Loss: 0.0045\n",
            "Epoch [240/500], Loss: 0.0009\n",
            "Epoch [250/500], Loss: 0.0008\n",
            "Epoch [260/500], Loss: 0.0032\n",
            "Epoch [270/500], Loss: 0.0018\n",
            "Epoch [280/500], Loss: 0.0010\n",
            "Epoch [290/500], Loss: 0.0014\n",
            "Epoch [300/500], Loss: 0.0006\n",
            "Epoch [310/500], Loss: 0.0015\n",
            "Epoch [320/500], Loss: 0.0005\n",
            "Epoch [330/500], Loss: 0.0006\n",
            "Epoch [340/500], Loss: 0.0016\n",
            "Epoch [350/500], Loss: 0.0006\n",
            "Epoch [360/500], Loss: 0.0013\n",
            "Epoch [370/500], Loss: 0.0011\n",
            "Epoch [380/500], Loss: 0.0026\n",
            "Epoch [390/500], Loss: 0.0008\n",
            "Epoch [400/500], Loss: 0.0003\n",
            "Epoch [410/500], Loss: 0.0010\n",
            "Epoch [420/500], Loss: 0.0002\n",
            "Epoch [430/500], Loss: 0.0008\n",
            "Epoch [440/500], Loss: 0.0001\n",
            "Epoch [450/500], Loss: 0.0005\n",
            "Epoch [460/500], Loss: 0.0009\n",
            "Epoch [470/500], Loss: 0.0008\n",
            "Epoch [480/500], Loss: 0.0026\n",
            "Epoch [490/500], Loss: 0.0009\n",
            "Epoch [500/500], Loss: 0.0006\n"
          ]
        }
      ]
    },
    {
      "cell_type": "code",
      "source": [
        "model.eval()  # Set the model to evaluation mode\n",
        "test_loss = 0.0\n",
        "predictions = []\n",
        "targets = []\n",
        "\n",
        "with torch.no_grad():\n",
        "    for sequences, labels in test_loader:\n",
        "        outputs = model(sequences.float())  # cast input tensor to Float\n",
        "        loss = criterion(outputs, labels.float().unsqueeze(1))  # cast label tensor to Float\n",
        "        test_loss += loss.item() * sequences.size(0)\n",
        "\n",
        "        # Convert predictions and labels back to their original scale\n",
        "        predictions.extend((outputs.cpu().numpy() * (data_max - data_min)) + data_min)\n",
        "        targets.extend((labels.cpu().numpy() * (data_max - data_min)) + data_min)\n"
      ],
      "metadata": {
        "id": "01Id8kYwmqNQ"
      },
      "execution_count": 60,
      "outputs": []
    },
    {
      "cell_type": "code",
      "source": [
        "import numpy as np\n",
        "\n",
        "# Convert predictions and targets to numpy arrays\n",
        "predictions = np.array(predictions)\n",
        "targets = np.array(targets)\n",
        "\n",
        "# Calculate MSE\n",
        "mse = np.mean((predictions - targets) ** 2)\n",
        "\n",
        "# Calculate RMSE\n",
        "rmse = np.sqrt(mse)\n",
        "\n",
        "# Calculate accuracy (assuming a threshold for classification)\n",
        "threshold = 0.5\n",
        "binary_predictions = (predictions >= threshold).astype(int)\n",
        "binary_targets = (targets >= threshold).astype(int)\n",
        "accuracy = np.mean(binary_predictions == binary_targets)\n",
        "\n",
        "# Calculate mean error percentage\n",
        "mean_error_percentage = np.mean(np.abs((predictions - targets) / targets)) * 100\n",
        "\n",
        "print(\"MSE:\", mse)\n",
        "print(\"RMSE:\", rmse)\n",
        "print(\"Accuracy:\", accuracy)\n",
        "print(\"Mean Error Percentage:\", mean_error_percentage)\n"
      ],
      "metadata": {
        "colab": {
          "base_uri": "https://localhost:8080/"
        },
        "id": "ttr3h4AkqI9f",
        "outputId": "f4c8e377-aa29-4fb0-87d2-16349cd73a26"
      },
      "execution_count": 62,
      "outputs": [
        {
          "output_type": "stream",
          "name": "stdout",
          "text": [
            "MSE: 98.68136\n",
            "RMSE: 9.933849\n",
            "Accuracy: 1.0\n",
            "Mean Error Percentage: 4.9670591950416565\n"
          ]
        }
      ]
    },
    {
      "cell_type": "code",
      "source": [
        "import matplotlib.pyplot as plt\n",
        "\n",
        "# Plot the predicted and target values\n",
        "plt.plot(targets, label='Targets')\n",
        "plt.plot(predictions, label='Predictions')\n",
        "plt.xlabel('Sample Index')\n",
        "plt.ylabel('Value')\n",
        "plt.title('Predictions vs. Targets')\n",
        "plt.legend()\n",
        "plt.show()"
      ],
      "metadata": {
        "colab": {
          "base_uri": "https://localhost:8080/",
          "height": 472
        },
        "id": "cA19hh4jq-mW",
        "outputId": "cb8e938d-5526-454e-ec56-2d614587fd02"
      },
      "execution_count": 63,
      "outputs": [
        {
          "output_type": "display_data",
          "data": {
            "text/plain": [
              "<Figure size 640x480 with 1 Axes>"
            ],
            "image/png": "[encoded data removed]"
          },
          "metadata": {}
        }
      ]
    }
  ]
}