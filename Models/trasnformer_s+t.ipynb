{
  "nbformat": 4,
  "nbformat_minor": 0,
  "metadata": {
    "colab": {
      "provenance": []
    },
    "kernelspec": {
      "name": "python3",
      "display_name": "Python 3"
    },
    "language_info": {
      "name": "python"
    }
  },
  "cells": [
    {
      "cell_type": "code",
      "source": [
        "import json\n",
        "import time\n",
        "import math\n",
        "import matplotlib.pyplot as plt\n",
        "import numpy as np\n",
        "import pandas as pd\n",
        "import datetime as dt\n",
        "from numpy import newaxis\n",
        "import numpy as np\n",
        "import pandas as pd\n",
        "import torch\n",
        "import torch.nn as nn\n",
        "from torch.utils.data import Dataset, DataLoader\n",
        "from tqdm import tqdm\n",
        "import matplotlib.pyplot as plt\n",
        "from collections import defaultdict\n",
        "import torch.optim as optim\n",
        "import torch.nn.functional as F\n",
        "from collections import Counter\n",
        "import random\n",
        "import torch.optim as optim\n",
        "from torch.utils.data import DataLoader, TensorDataset\n",
        "from torchsummary import summary\n",
        "from sklearn.linear_model import LinearRegression\n",
        "from sklearn.ensemble import RandomForestRegressor\n",
        "from sklearn.linear_model import Ridge\n",
        "\n",
        "from math import pi,sqrt,exp,pow,log\n",
        "from numpy.linalg import det, inv\n",
        "from abc import ABCMeta, abstractmethod\n",
        "from sklearn import cluster\n",
        "\n",
        "import statsmodels.api as sm \n",
        "import scipy.stats as scs\n",
        "import scipy.optimize as sco\n",
        "import scipy.interpolate as sci\n",
        "from scipy import stats\n",
        "import torch\n",
        "import torch.nn as nn\n",
        "import torch.optim as optim\n",
        "import numpy as np\n",
        "import sklearn\n"
      ],
      "metadata": {
        "id": "OA3ZnBpTfCfn"
      },
      "execution_count": 1,
      "outputs": []
    },
    {
      "cell_type": "code",
      "source": [
        "df = pd.read_csv(\"model_data.csv\")\n",
        "# Drop the \"tema\" column\n",
        "df = df.drop(\"Unnamed: 0.1\", axis=1)\n",
        "df = df.drop(\"Unnamed: 0\", axis=1)\n",
        "df.set_index('Date', inplace=True)"
      ],
      "metadata": {
        "id": "juD7X8afe5O3"
      },
      "execution_count": 2,
      "outputs": []
    },
    {
      "cell_type": "code",
      "execution_count": 3,
      "metadata": {
        "id": "o55XSN6eeyNF"
      },
      "outputs": [],
      "source": [
        "def sliding_windows(data, seq_length):\n",
        "    #data_array = data.values  # Convert DataFrame to numpy array\n",
        "    x = []\n",
        "    y = []\n",
        "\n",
        "    for i in range(len(data)-seq_length+1):\n",
        "        _x = data[i:(i+seq_length), :-1]  # Exclude the last column (label) from _x\n",
        "        _y = data[i+seq_length-1, -1]  # Label is taken from the last column of the next row\n",
        "        _x[-1, -1] = _y  # Replace the last element of the sequence with the label\n",
        "        x.append(_x)\n",
        "        y.append(_y)\n",
        "\n",
        "    return np.array(x), np.array(y)\n"
      ]
    },
    {
      "cell_type": "code",
      "source": [
        "inv_data =pd.read_csv(\"model_data.csv\")\n",
        "# Drop the \"tema\" column\n",
        "inv_data = inv_data.drop(\"Unnamed: 0.1\", axis=1)\n",
        "inv_data = inv_data.drop(\"Unnamed: 0\", axis=1)\n",
        "inv_data.set_index('Date', inplace=True)\n",
        "inv_data_y = inv_data['target']\n",
        "inv_data_y = inv_data_y.values\n",
        "\n",
        "# Manually rescale the predictions and targets based on the original data range\n",
        "data_min = np.min(inv_data_y)  # Minimum value of the original data\n",
        "data_max = np.max(inv_data_y)  # Maximum value of the original data\n",
        "\n",
        "\n"
      ],
      "metadata": {
        "id": "m4r4OkOJnh3n"
      },
      "execution_count": 4,
      "outputs": []
    },
    {
      "cell_type": "code",
      "source": [
        "#sc = MinMaxScaler()\n",
        "#training_data = sc.fit_transform(train)\n",
        "from torch.autograd import Variable\n",
        "from sklearn.preprocessing import MinMaxScaler\n",
        "sc = MinMaxScaler()\n",
        "data = sc.fit_transform(df)\n",
        "\n",
        "seq_length = 10\n",
        "x, y = sliding_windows(data, seq_length)\n",
        "\n",
        "train_size = int(len(y) * 0.80)\n",
        "test_size = len(y) - train_size\n",
        "\n",
        "dataX = Variable(torch.Tensor(np.array(x)))\n",
        "dataY = Variable(torch.Tensor(np.array(y)))\n",
        "\n",
        "X_train = Variable(torch.Tensor(np.array(x[0:train_size])))\n",
        "y_train = Variable(torch.Tensor(np.array(y[0:train_size])))\n",
        "\n",
        "X_test = Variable(torch.Tensor(np.array(x[train_size:len(x)])))\n",
        "y_test = Variable(torch.Tensor(np.array(y[train_size:len(y)])))"
      ],
      "metadata": {
        "id": "bLf0sJP3fOlN"
      },
      "execution_count": 5,
      "outputs": []
    },
    {
      "cell_type": "code",
      "source": [
        "# Create training and testing datasets\n",
        "train_dataset = TensorDataset(X_train, y_train)\n",
        "test_dataset = TensorDataset(X_test, y_test)\n",
        "batch_size= 32\n",
        "# Create data loaders for batching the datasets\n",
        "train_loader = DataLoader(train_dataset, batch_size=batch_size, shuffle=True)\n",
        "test_loader = DataLoader(test_dataset, batch_size=batch_size, shuffle=False)"
      ],
      "metadata": {
        "id": "T9cEf4XFjfqO"
      },
      "execution_count": 6,
      "outputs": []
    },
    {
      "cell_type": "code",
      "source": [
        "# Define the Transformer model\n",
        "class TransformerModel(nn.Module):\n",
        "    def __init__(self, input_size, hidden_size, num_layers, num_heads, dropout):\n",
        "        super(TransformerModel, self).__init__()\n",
        "\n",
        "        assert input_size % num_heads == 0, \"input_size must be divisible by num_heads\"\n",
        "\n",
        "        # Transformer encoder layer\n",
        "        self.transformer_encoder = nn.TransformerEncoderLayer(d_model=input_size, nhead=num_heads)\n",
        "        self.transformer_encoder = nn.TransformerEncoder(self.transformer_encoder, num_layers=num_layers)\n",
        "\n",
        "        # Fully connected layer\n",
        "        self.fc = nn.Linear(input_size, 1)\n",
        "\n",
        "    def forward(self, x):\n",
        "        x = self.transformer_encoder(x)\n",
        "        x = x[:, -1, :]  # Extract the output of the last time step\n",
        "        x = self.fc(x)\n",
        "        return x\n"
      ],
      "metadata": {
        "id": "AKKU_wt9j8tP"
      },
      "execution_count": 17,
      "outputs": []
    },
    {
      "cell_type": "code",
      "source": [
        "# Set the hyperparameters\n",
        "input_size = 18  # Number of input features\n",
        "hidden_size = 64\n",
        "num_layers = 2\n",
        "num_heads = 6  # Adjust this value to a factor of 18\n",
        "dropout = 0.1\n",
        "learning_rate = 0.001\n",
        "num_epochs = 100\n",
        "\n",
        "# Create an instance of the Transformer model\n",
        "model = TransformerModel(input_size, hidden_size, num_layers, num_heads, dropout)\n",
        "\n",
        "\n"
      ],
      "metadata": {
        "id": "PNdi9JtRkANY"
      },
      "execution_count": 18,
      "outputs": []
    },
    {
      "cell_type": "code",
      "source": [
        "\n",
        "\n",
        "\n",
        "# Initialize the model and the optimizer\n",
        "#model = StockSelectionModel().to(device)\n",
        "optimizer = torch.optim.Adam(model.parameters(), lr=learning_rate, betas=(0.9, 0.999))\n",
        "\n",
        "# Define the loss function\n",
        "criterion = nn.MSELoss()"
      ],
      "metadata": {
        "id": "wPe1tvj2kD8t"
      },
      "execution_count": 19,
      "outputs": []
    },
    {
      "cell_type": "code",
      "source": [
        "num_epochs=500\n",
        "# Train the LSTM model\n",
        "for epoch in range(num_epochs):\n",
        "    for i, (sequences, labels) in enumerate(train_loader):\n",
        "        optimizer.zero_grad()\n",
        "        outputs = model(sequences.float()) # cast input tensor to Float\n",
        "        loss = criterion(outputs, labels.float().unsqueeze(1)) # cast label tensor to Float\n",
        "        loss.backward()\n",
        "        nn.utils.clip_grad_norm_(model.parameters(), max_norm=1.0)\n",
        "        optimizer.step()\n",
        "\n",
        "    # Print the loss every 10 epochs\n",
        "    if (epoch + 1) % 10 == 0:\n",
        "        print(f\"Epoch [{epoch+1}/{num_epochs}], Loss: {loss.item():.4f}\")"
      ],
      "metadata": {
        "colab": {
          "base_uri": "https://localhost:8080/"
        },
        "id": "kQ2ne7ojkTL2",
        "outputId": "59124bd1-0e8b-4920-f672-371c7d453154"
      },
      "execution_count": 20,
      "outputs": [
        {
          "output_type": "stream",
          "name": "stdout",
          "text": [
            "Epoch [10/500], Loss: 0.0057\n",
            "Epoch [20/500], Loss: 0.0035\n",
            "Epoch [30/500], Loss: 0.0085\n",
            "Epoch [40/500], Loss: 0.0028\n",
            "Epoch [50/500], Loss: 0.0023\n",
            "Epoch [60/500], Loss: 0.0024\n",
            "Epoch [70/500], Loss: 0.0014\n",
            "Epoch [80/500], Loss: 0.0044\n",
            "Epoch [90/500], Loss: 0.0008\n",
            "Epoch [100/500], Loss: 0.0008\n",
            "Epoch [110/500], Loss: 0.0012\n",
            "Epoch [120/500], Loss: 0.0010\n",
            "Epoch [130/500], Loss: 0.0009\n",
            "Epoch [140/500], Loss: 0.0016\n",
            "Epoch [150/500], Loss: 0.0006\n",
            "Epoch [160/500], Loss: 0.0019\n",
            "Epoch [170/500], Loss: 0.0007\n",
            "Epoch [180/500], Loss: 0.0005\n",
            "Epoch [190/500], Loss: 0.0010\n",
            "Epoch [200/500], Loss: 0.0013\n",
            "Epoch [210/500], Loss: 0.0007\n",
            "Epoch [220/500], Loss: 0.0012\n",
            "Epoch [230/500], Loss: 0.0006\n",
            "Epoch [240/500], Loss: 0.0012\n",
            "Epoch [250/500], Loss: 0.0005\n",
            "Epoch [260/500], Loss: 0.0008\n",
            "Epoch [270/500], Loss: 0.0003\n",
            "Epoch [280/500], Loss: 0.0004\n",
            "Epoch [290/500], Loss: 0.0009\n",
            "Epoch [300/500], Loss: 0.0006\n",
            "Epoch [310/500], Loss: 0.0005\n",
            "Epoch [320/500], Loss: 0.0003\n",
            "Epoch [330/500], Loss: 0.0008\n",
            "Epoch [340/500], Loss: 0.0008\n",
            "Epoch [350/500], Loss: 0.0007\n",
            "Epoch [360/500], Loss: 0.0007\n",
            "Epoch [370/500], Loss: 0.0012\n",
            "Epoch [380/500], Loss: 0.0002\n",
            "Epoch [390/500], Loss: 0.0002\n",
            "Epoch [400/500], Loss: 0.0006\n",
            "Epoch [410/500], Loss: 0.0010\n",
            "Epoch [420/500], Loss: 0.0006\n",
            "Epoch [430/500], Loss: 0.0017\n",
            "Epoch [440/500], Loss: 0.0008\n",
            "Epoch [450/500], Loss: 0.0007\n",
            "Epoch [460/500], Loss: 0.0002\n",
            "Epoch [470/500], Loss: 0.0006\n",
            "Epoch [480/500], Loss: 0.0003\n",
            "Epoch [490/500], Loss: 0.0007\n",
            "Epoch [500/500], Loss: 0.0007\n"
          ]
        }
      ]
    },
    {
      "cell_type": "code",
      "source": [
        "model.eval()  # Set the model to evaluation mode\n",
        "test_loss = 0.0\n",
        "predictions = []\n",
        "targets = []\n",
        "\n",
        "with torch.no_grad():\n",
        "    for sequences, labels in test_loader:\n",
        "        outputs = model(sequences.float())  # cast input tensor to Float\n",
        "        loss = criterion(outputs, labels.float().unsqueeze(1))  # cast label tensor to Float\n",
        "        test_loss += loss.item() * sequences.size(0)\n",
        "\n",
        "        # Convert predictions and labels back to their original scale\n",
        "        predictions.extend((outputs.cpu().numpy() * (data_max - data_min)) + data_min)\n",
        "        targets.extend((labels.cpu().numpy() * (data_max - data_min)) + data_min)\n"
      ],
      "metadata": {
        "id": "01Id8kYwmqNQ"
      },
      "execution_count": 22,
      "outputs": []
    },
    {
      "cell_type": "code",
      "source": [
        "import numpy as np\n",
        "\n",
        "# Convert predictions and targets to numpy arrays\n",
        "predictions = np.array(predictions)\n",
        "targets = np.array(targets)\n",
        "\n",
        "# Calculate MSE\n",
        "mse = np.mean((predictions - targets) ** 2)\n",
        "\n",
        "# Calculate RMSE\n",
        "rmse = np.sqrt(mse)\n",
        "\n",
        "# Calculate accuracy (assuming a threshold for classification)\n",
        "threshold = 0.5\n",
        "binary_predictions = (predictions >= threshold).astype(int)\n",
        "binary_targets = (targets >= threshold).astype(int)\n",
        "accuracy = np.mean(binary_predictions == binary_targets)\n",
        "\n",
        "# Calculate mean error percentage\n",
        "mean_error_percentage = np.mean(np.abs((predictions - targets) / targets)) * 100\n",
        "\n",
        "print(\"MSE:\", mse)\n",
        "print(\"RMSE:\", rmse)\n",
        "print(\"Accuracy:\", accuracy)\n",
        "print(\"Mean Error Percentage:\", mean_error_percentage)\n"
      ],
      "metadata": {
        "colab": {
          "base_uri": "https://localhost:8080/"
        },
        "id": "ttr3h4AkqI9f",
        "outputId": "64e19510-384d-42e0-e1bf-ff570bd7aae9"
      },
      "execution_count": 23,
      "outputs": [
        {
          "output_type": "stream",
          "name": "stdout",
          "text": [
            "MSE: 100.08238\n",
            "RMSE: 10.004118\n",
            "Accuracy: 1.0\n",
            "Mean Error Percentage: 5.033975467085838\n"
          ]
        }
      ]
    },
    {
      "cell_type": "code",
      "source": [
        "import matplotlib.pyplot as plt\n",
        "\n",
        "# Plot the predicted and target values\n",
        "plt.plot(targets, label='Targets')\n",
        "plt.plot(predictions, label='Predictions')\n",
        "plt.xlabel('Sample Index')\n",
        "plt.ylabel('Value')\n",
        "plt.title('Predictions vs. Targets')\n",
        "plt.legend()\n",
        "plt.show()"
      ],
      "metadata": {
        "colab": {
          "base_uri": "https://localhost:8080/",
          "height": 472
        },
        "id": "cA19hh4jq-mW",
        "outputId": "f1c71f1b-3eb5-4117-dd4a-b449028e80e8"
      },
      "execution_count": 24,
      "outputs": [
        {
          "output_type": "display_data",
          "data": {
            "text/plain": [
              "<Figure size 640x480 with 1 Axes>"
            ],
            "image/png": "[encoded data removed]"
          },
          "metadata": {}
        }
      ]
    },
    {
      "cell_type": "code",
      "source": [
        "def get_model_summary(model):\n",
        "    total_params = 0\n",
        "    for name, param in model.named_parameters():\n",
        "        if param.requires_grad:\n",
        "            total_params += param.numel()\n",
        "    \n",
        "    print(model)\n",
        "    print(f\"Total Trainable Parameters: {total_params}\")\n",
        "\n",
        "# Print the model summary\n",
        "get_model_summary(model)"
      ],
      "metadata": {
        "colab": {
          "base_uri": "https://localhost:8080/"
        },
        "id": "rTeaFJ-MCAgl",
        "outputId": "c108b901-1df4-4848-de65-48e1f44accb5"
      },
      "execution_count": 26,
      "outputs": [
        {
          "output_type": "stream",
          "name": "stdout",
          "text": [
            "TransformerModel(\n",
            "  (transformer_encoder): TransformerEncoder(\n",
            "    (layers): ModuleList(\n",
            "      (0-1): 2 x TransformerEncoderLayer(\n",
            "        (self_attn): MultiheadAttention(\n",
            "          (out_proj): NonDynamicallyQuantizableLinear(in_features=18, out_features=18, bias=True)\n",
            "        )\n",
            "        (linear1): Linear(in_features=18, out_features=2048, bias=True)\n",
            "        (dropout): Dropout(p=0.1, inplace=False)\n",
            "        (linear2): Linear(in_features=2048, out_features=18, bias=True)\n",
            "        (norm1): LayerNorm((18,), eps=1e-05, elementwise_affine=True)\n",
            "        (norm2): LayerNorm((18,), eps=1e-05, elementwise_affine=True)\n",
            "        (dropout1): Dropout(p=0.1, inplace=False)\n",
            "        (dropout2): Dropout(p=0.1, inplace=False)\n",
            "      )\n",
            "    )\n",
            "  )\n",
            "  (fc): Linear(in_features=18, out_features=1, bias=True)\n",
            ")\n",
            "Total Trainable Parameters: 154487\n"
          ]
        }
      ]
    }
  ]
}