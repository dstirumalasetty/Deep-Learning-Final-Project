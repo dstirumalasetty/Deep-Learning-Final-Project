{
  "nbformat": 4,
  "nbformat_minor": 0,
  "metadata": {
    "colab": {
      "provenance": []
    },
    "kernelspec": {
      "name": "python3",
      "display_name": "Python 3"
    },
    "language_info": {
      "name": "python"
    }
  },
  "cells": [
    {
      "cell_type": "code",
      "execution_count": null,
      "metadata": {
        "colab": {
          "base_uri": "https://localhost:8080/"
        },
        "id": "WufyYFEs_PMi",
        "outputId": "f9f42f70-5abf-4f1f-dc10-194dca139b08"
      },
      "outputs": [
        {
          "output_type": "stream",
          "name": "stdout",
          "text": [
            "Looking in indexes: https://pypi.org/simple, https://us-python.pkg.dev/colab-wheels/public/simple/\n",
            "Requirement already satisfied: ta in /usr/local/lib/python3.10/dist-packages (0.10.2)\n",
            "Requirement already satisfied: numpy in /usr/local/lib/python3.10/dist-packages (from ta) (1.22.4)\n",
            "Requirement already satisfied: pandas in /usr/local/lib/python3.10/dist-packages (from ta) (1.5.3)\n",
            "Requirement already satisfied: python-dateutil>=2.8.1 in /usr/local/lib/python3.10/dist-packages (from pandas->ta) (2.8.2)\n",
            "Requirement already satisfied: pytz>=2020.1 in /usr/local/lib/python3.10/dist-packages (from pandas->ta) (2022.7.1)\n",
            "Requirement already satisfied: six>=1.5 in /usr/local/lib/python3.10/dist-packages (from python-dateutil>=2.8.1->pandas->ta) (1.16.0)\n",
            "Looking in indexes: https://pypi.org/simple, https://us-python.pkg.dev/colab-wheels/public/simple/\n",
            "Requirement already satisfied: ta in /usr/local/lib/python3.10/dist-packages (0.10.2)\n",
            "Requirement already satisfied: numpy in /usr/local/lib/python3.10/dist-packages (from ta) (1.22.4)\n",
            "Requirement already satisfied: pandas in /usr/local/lib/python3.10/dist-packages (from ta) (1.5.3)\n",
            "Requirement already satisfied: python-dateutil>=2.8.1 in /usr/local/lib/python3.10/dist-packages (from pandas->ta) (2.8.2)\n",
            "Requirement already satisfied: pytz>=2020.1 in /usr/local/lib/python3.10/dist-packages (from pandas->ta) (2022.7.1)\n",
            "Requirement already satisfied: six>=1.5 in /usr/local/lib/python3.10/dist-packages (from python-dateutil>=2.8.1->pandas->ta) (1.16.0)\n"
          ]
        }
      ],
      "source": [
        "!pip install ta\n",
        "!pip install --upgrade ta"
      ]
    },
    {
      "cell_type": "code",
      "source": [
        "import pandas as pd\n",
        "import numpy as np\n",
        "import matplotlib.pyplot as plt\n",
        "\n",
        "from sklearn.preprocessing import StandardScaler\n",
        "from ta.momentum import StochasticOscillator, RSIIndicator\n",
        "from ta.trend import MACD, EMAIndicator\n",
        "from ta.volatility import BollingerBands\n",
        "from ta.volume import OnBalanceVolumeIndicator, ChaikinMoneyFlowIndicator, VolumeWeightedAveragePrice"
      ],
      "metadata": {
        "id": "Gn1Kj3k5_fDV"
      },
      "execution_count": null,
      "outputs": []
    },
    {
      "cell_type": "code",
      "source": [
        "df = pd.read_csv('aapl_stock_df (1).csv' )\n"
      ],
      "metadata": {
        "id": "xeto_wjx_gnO"
      },
      "execution_count": null,
      "outputs": []
    },
    {
      "cell_type": "code",
      "source": [
        "  so = StochasticOscillator(df['High'], df['Low'], df['Close'], window=14)\n",
        "  so_k = so.stoch()\n",
        "  so_d = so.stoch_signal()\n",
        "\n",
        "  # Calculate the RSI\n",
        "  rsi = RSIIndicator(df['Close'], window=14)\n",
        "\n",
        "  # Calculate the Money Flow Index\n",
        "  mfi = ChaikinMoneyFlowIndicator(df['High'], df['Low'], df['Close'], df['Volume'], window=14)\n",
        "\n",
        "  # Calculate the MACD\n",
        "  macd = MACD(df['Close'], window_slow=26, window_fast=12, window_sign=9)\n",
        "  macd_signal = macd.macd_signal()\n",
        "  macd_diff = macd.macd_diff()\n",
        "\n",
        "  # Calculate the EMA\n",
        "  ema = EMAIndicator(df['Close'], window=14)\n",
        "\n",
        "  # Calculate the Triple EMA\n",
        "  tema = EMAIndicator(EMAIndicator(EMAIndicator(df['Close'], window=14).ema_indicator(), window=14).ema_indicator(), window=14)\n",
        "\n",
        "  # Calculate the Moving Average Convergence Divergence (MACD)\n",
        "  macd = MACD(df['Close'], window_slow=26, window_fast=12, window_sign=9)\n",
        "  macd_signal = macd.macd_signal()\n",
        "  macd_diff = macd.macd_diff()\n",
        "\n",
        "  # Calculate the Volume Weighted Average Price (VWAP)\n",
        "  #vwap = df.eval('(Volume * (High + Low + Close) / 3).cumsum() / df.Volume.cumsum()')\n",
        "  vwap = VolumeWeightedAveragePrice(df['High'], df['Low'], df['Close'], df['Volume'], window=14)\n",
        "  # Calculate the On Balance Volume (OBV)\n",
        "  obv = OnBalanceVolumeIndicator(df['Close'], df['Volume'])\n",
        "\n",
        "  # Calculate the Bollinger Bands\n",
        "  bbands = BollingerBands(df['Close'], window=14, window_dev=2)\n",
        "  bbands_upper = bbands.bollinger_hband()\n",
        "  bbands_lower = bbands.bollinger_lband()\n",
        "\n",
        "  # Calculate the Price Rate of Change (ROC) indicator\n",
        "  roc = df['Close'].pct_change(periods=14)\n",
        "\n",
        "  # Calculate the Chaikin Oscillator\n",
        "  adl = ((2 * df['Close'] - df['High'] - df['Low']) / (df['High'] - df['Low'])) * df['Volume']\n",
        "  chaikin = EMAIndicator(adl, window=3).ema_indicator() - EMAIndicator(adl, window=10).ema_indicator()\n",
        "\n",
        "  df['rsi'] = rsi.rsi()\n",
        "  df['stocastic_oscillator'] = so.stoch()\n",
        "  df['mfi'] = mfi.chaikin_money_flow()\n",
        "  df['macd'] = macd.macd()\n",
        "  df['ema'] = ema.ema_indicator() \n",
        "  df['tema'] = tema.ema_indicator()\n",
        "  df['vwap'] = vwap.volume_weighted_average_price()\n",
        "  df['obv'] = obv.on_balance_volume()\n",
        "  df['bbands_upper'] = bbands.bollinger_hband()\n",
        "  df['bbands_lower'] = bbands.bollinger_lband()\n",
        "  df['chaikin'] = chaikin"
      ],
      "metadata": {
        "id": "cJfaSEFoAblG"
      },
      "execution_count": null,
      "outputs": []
    },
    {
      "cell_type": "code",
      "source": [
        "csv_file_path = 'aapl_df.csv'\n",
        "\n",
        "# Convert the DataFrame to CSV\n",
        "df.to_csv(csv_file_path, index=False)\n"
      ],
      "metadata": {
        "id": "ISLEXkMMAsoI"
      },
      "execution_count": null,
      "outputs": []
    }
  ]
}